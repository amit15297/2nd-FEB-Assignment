{
 "cells": [
  {
   "cell_type": "code",
   "execution_count": 24,
   "id": "9a9a7783-7ded-42e1-a5d9-36da18a42600",
   "metadata": {},
   "outputs": [
    {
     "name": "stdout",
     "output_type": "stream",
     "text": [
      "1\n",
      "2\n",
      "3\n",
      "4\n",
      "5\n"
     ]
    }
   ],
   "source": [
    "''' Q1. Explain with an example each when to use a for loop and a while loop. '''\n",
    "\n",
    "# Ans.   WHILE LOOP\n",
    "'''  Python While Loop is used to execute a block of statements repeatedly until a given condition is satisfied \n",
    "     or until the condition is True . \n",
    "     And when the condition becomes false, the loop stops .\n",
    "     A while Loop is used WHEN we don't know how many times the loop should run , \n",
    "     so its based on a condition rather then the number of times the loop should run before it breaks .\n",
    "\n",
    "     For Example :  '''\n",
    "  \n",
    "i = 1  # Initialization\n",
    "while i < 6:  # Condition\n",
    "    print(i)\n",
    "    i += 1  # Updation"
   ]
  },
  {
   "cell_type": "code",
   "execution_count": 2,
   "id": "a558e170-8ca9-4467-be8b-ed454a634bad",
   "metadata": {},
   "outputs": [
    {
     "name": "stdout",
     "output_type": "stream",
     "text": [
      "1\n",
      "2\n",
      "3\n"
     ]
    }
   ],
   "source": [
    "#  FOR LOOP \n",
    "''' A for loop is a control flow statement that executes code repeatedly for a particular number of iterations. \n",
    "    In this control flow statement, the keyword used is for. \n",
    "    The for loop is used when the number of iterations is already known \n",
    "    \n",
    "    For example :   '''\n",
    "\n",
    "n = [1, 2, 3]  # Initialization\n",
    "for i in n:  # Condition and Updation\n",
    "    print(i)"
   ]
  },
  {
   "cell_type": "code",
   "execution_count": 25,
   "id": "41aca872-e831-4ff5-a58c-e75d9a180866",
   "metadata": {},
   "outputs": [
    {
     "name": "stdout",
     "output_type": "stream",
     "text": [
      "sum : 55\n",
      "product : 3628800\n"
     ]
    }
   ],
   "source": [
    "''' Q2.   Write a python program to print the sum and product of the first 10 natural numbers using for and while loop. '''\n",
    "\n",
    "# Ans.   FOR LOOP \n",
    " \n",
    "    # SUM of first 10 natural numbers\n",
    "    \n",
    "n = 0\n",
    "for i in range(1,11):\n",
    "    n = n + i\n",
    "print(\"sum : \" + str(n))\n",
    "\n",
    "    # PRODUCT of first 10 natural numbers\n",
    "    \n",
    "n = 1\n",
    "for i in range(1,11):\n",
    "    n = n*i\n",
    "print(\"product : \" + str(n) )"
   ]
  },
  {
   "cell_type": "code",
   "execution_count": 4,
   "id": "8804b6db-26cb-44c7-835b-dccd40158c77",
   "metadata": {},
   "outputs": [
    {
     "name": "stdout",
     "output_type": "stream",
     "text": [
      "sum : 55\n",
      "product : 3628800\n"
     ]
    }
   ],
   "source": [
    "#  WHILE LOOP\n",
    "\n",
    "   # SUM of first 10 natural numbers\n",
    "    \n",
    "i = 0\n",
    "n = 0\n",
    "while i <= 10 :\n",
    "    n = n + i\n",
    "    i = i+1\n",
    "print(\"sum : \"+ str(n))\n",
    "\n",
    "\n",
    "   # PRODUCT of first 10 natural numbers\n",
    "    \n",
    "i = 1\n",
    "n = 1\n",
    "while i <= 10 :\n",
    "    n = n * i\n",
    "    i = i+1\n",
    "print(\"product : \"+ str(n))\n",
    "\n",
    "\n",
    "         "
   ]
  },
  {
   "cell_type": "code",
   "execution_count": 30,
   "id": "15d08ead-b780-4008-a5da-4af2929f99a2",
   "metadata": {},
   "outputs": [
    {
     "name": "stdin",
     "output_type": "stream",
     "text": [
      "Enter the Unit :  310\n"
     ]
    },
    {
     "name": "stdout",
     "output_type": "stream",
     "text": [
      "Bill : 2250.0\n"
     ]
    }
   ],
   "source": [
    "'''Q3. Create a python program to compute the electricity bill for a household.\n",
    "\n",
    "The per-unit charges in rupees are as follows: For the first 100 units, the user will be charged Rs. 4.5 per\n",
    "unit, for the next 100 units, the user will be charged Rs. 6 per unit, and for the next 100 units, the user will\n",
    "be charged Rs. 10 per unit, After 300 units and above the user will be charged Rs. 20 per unit.\n",
    "You are required to take the units of electricity consumed in a month from the user as input.\n",
    "Your program must pass this test case: when the unit of electricity consumed by the user in a month is\n",
    "310, the total electricity bill should be 2250. '''\n",
    "\n",
    "\n",
    "unit = int(input(\"Enter the Unit : \"))\n",
    "if unit <= 0 :\n",
    "    print(\"No Bill\")\n",
    "elif unit <= 100 :\n",
    "    bill = unit*4.5\n",
    "    print(\"Bill : \" + str(bill))\n",
    "elif 100 <unit <= 200 :\n",
    "    bill = 100*4.5 + (unit-100)*6\n",
    "    print(\"Bill : \" + str(bill))\n",
    "elif 200 < unit <= 300 :\n",
    "    bill = 100*4.5 + (100)*6 + (unit-200)*10\n",
    "    print(\"Bill : \" + str(bill))\n",
    "else :\n",
    "    bill = 100*4.5 + (100)*6 + (100)*10 + (unit-300)*20\n",
    "    print(\"Bill : \" + str(bill))\n"
   ]
  },
  {
   "cell_type": "code",
   "execution_count": 92,
   "id": "87de99b5-b183-49c4-a861-04b84b06b628",
   "metadata": {},
   "outputs": [
    {
     "name": "stdout",
     "output_type": "stream",
     "text": [
      "[2, 4, 5, 6, 8, 10, 12, 14, 15, 16, 18, 20, 22, 24, 25, 26, 28, 30, 32, 34, 35, 36, 38, 40, 42, 44, 45, 46, 48, 50, 52, 54, 55, 56, 58, 60, 62, 64, 65, 66, 68, 70, 72, 74, 75, 76, 78, 80, 82, 84, 85, 86, 88, 90, 92, 94, 95, 96, 98, 100]\n"
     ]
    }
   ],
   "source": [
    "'''Q4. Create a list of numbers from 1 to 100. Use for loop and while loop to calculate the cube of each\n",
    "number and if the cube of that number is divisible by 4 or 5 then append that number in a list and print\n",
    "that list. '''\n",
    "\n",
    "# Ans.   FOR LOOP\n",
    "\n",
    "my_list = []\n",
    "\n",
    "for i in range(1,101):\n",
    "    cube = i**3\n",
    "    if (cube%4==0) or (cube%5==0):\n",
    "        my_list.append(i)\n",
    "print(my_list)\n",
    "\n"
   ]
  },
  {
   "cell_type": "code",
   "execution_count": 93,
   "id": "a64d989c-36d5-4252-bb70-9ea8221ea3db",
   "metadata": {},
   "outputs": [
    {
     "name": "stdout",
     "output_type": "stream",
     "text": [
      "[2, 4, 5, 6, 8, 10, 12, 14, 15, 16, 18, 20, 22, 24, 25, 26, 28, 30, 32, 34, 35, 36, 38, 40, 42, 44, 45, 46, 48, 50, 52, 54, 55, 56, 58, 60, 62, 64, 65, 66, 68, 70, 72, 74, 75, 76, 78, 80, 82, 84, 85, 86, 88, 90, 92, 94, 95, 96, 98, 100]\n"
     ]
    }
   ],
   "source": [
    "\n",
    "#        WHILE LOOP\n",
    "\n",
    "\n",
    "num = []\n",
    "i = 1 \n",
    "while i <=100:\n",
    "    cube = i**3\n",
    "    if (cube%4==0) or (cube%5==0):\n",
    "        num.append(i)\n",
    "    i += 1\n",
    "print(num)\n",
    "        "
   ]
  },
  {
   "cell_type": "code",
   "execution_count": 79,
   "id": "f92df4aa-0687-46fb-b310-2ef756e6ac66",
   "metadata": {},
   "outputs": [
    {
     "name": "stdout",
     "output_type": "stream",
     "text": [
      "Vowels :  ['I', 'a', 'o', 'e', 'o', 'e', 'a', 'a', 'a', 'i', 'e', 'i']\n",
      "No of Vowels :  12\n"
     ]
    }
   ],
   "source": [
    "''' Q5. Write a program to filter count vowels in the below-given string.\n",
    "        string = \"I want to become a data scientist\"  '''\n",
    "\n",
    "\n",
    "string = list(\"I want to become a data scientist\")\n",
    "def vowel(x):\n",
    "    v = ['a', 'e', 'i', 'o', 'u','A', 'E', 'I', 'O', 'U']\n",
    "    return x in v\n",
    "b=list(filter(vowel,string))\n",
    "print(\"Vowels : \",b)\n",
    "print(\"No of Vowels : \",len(b))\n",
    "   \n"
   ]
  },
  {
   "cell_type": "code",
   "execution_count": null,
   "id": "8803b3eb-be1b-4cd5-a777-ef489c3a5795",
   "metadata": {},
   "outputs": [],
   "source": []
  }
 ],
 "metadata": {
  "kernelspec": {
   "display_name": "Python 3 (ipykernel)",
   "language": "python",
   "name": "python3"
  },
  "language_info": {
   "codemirror_mode": {
    "name": "ipython",
    "version": 3
   },
   "file_extension": ".py",
   "mimetype": "text/x-python",
   "name": "python",
   "nbconvert_exporter": "python",
   "pygments_lexer": "ipython3",
   "version": "3.10.8"
  }
 },
 "nbformat": 4,
 "nbformat_minor": 5
}
